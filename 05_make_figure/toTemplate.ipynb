{
 "cells": [
  {
   "cell_type": "code",
   "execution_count": 4,
   "metadata": {
    "vscode": {
     "languageId": "r"
    }
   },
   "outputs": [],
   "source": [
    "options(digits = 5)\n",
    "require(tools)\n",
    "require(utils)\n",
    "\n",
    "filename=\"pcon-con.v5.group.nii\"\n",
    "d <- read.csv(\"pcon-con.v5.group.csv\")\n",
    "\n",
    "t <- read.table(\"fNIRS_template.txt\")\n",
    "out <- t\n",
    "N <- 32\n",
    "for (i in 1:16) {\n",
    "    d_channel <- d[i, 1]\n",
    "    t_rows <- which(t[, 4] == d_channel)\n",
    "\n",
    "    # sanity checking\n",
    "    if (length(t_rows) != 2) {\n",
    "        print(\"something has gone horribly wrong! t_rows != 2\")\n",
    "        print(d_channel)\n",
    "        print(t_rows)\n",
    "        exit(1)\n",
    "    }\n",
    "\n",
    "    out[t_rows[1], 4] <- d[i, 2]\n",
    "    out[t_rows[2], 4] <- d[i, 2]\n",
    "}\n",
    "\n",
    "write.table(out, file = \"tmp.nii\",\n",
    "            quote = FALSE, col.names = FALSE, row.names = FALSE)\n",
    "\n",
    "system(paste0(\"3dUndump -datum float -mask fNIRS_template_mask.nii -master fNIRS_template.nii -ijk -prefix \", filename, \" tmp.nii\"))\n",
    "system(paste0(\"rm tmp.nii\"))"
   ]
  }
 ],
 "metadata": {
  "kernelspec": {
   "display_name": "R 4.3",
   "language": "R",
   "name": "ir43"
  },
  "language_info": {
   "codemirror_mode": "r",
   "file_extension": ".r",
   "mimetype": "text/x-r-source",
   "name": "R",
   "pygments_lexer": "r",
   "version": "4.3.3"
  }
 },
 "nbformat": 4,
 "nbformat_minor": 4
}
