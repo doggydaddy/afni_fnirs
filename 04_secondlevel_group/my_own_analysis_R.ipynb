{
 "cells": [
  {
   "cell_type": "code",
   "execution_count": null,
   "metadata": {},
   "outputs": [],
   "source": [
    "# Load necessary libraries\n",
    "library(car)\n",
    "\n",
    "# Read the data\n",
    "df <- read.csv(\"path/to/lrv_con_hbo_v5_ancova.csv\")\n",
    "\n",
    "# Convert group to a factor\n",
    "df$group <- as.factor(df$group)\n",
    "\n",
    "# Perform ANCOVA for each channel\n",
    "results <- list()\n",
    "\n",
    "for (channel in grep(\"channel\", names(df), value=TRUE)) {\n",
    "  formula <- as.formula(paste(channel, \"~ group + sans + saps + dose\"))\n",
    "  model <- aov(formula, data=df)\n",
    "  results[[channel]] <- Anova(model, type=\"III\")\n",
    "}\n",
    "\n",
    "# Print results\n",
    "results"
   ]
  }
 ],
 "metadata": {
  "kernelspec": {
   "display_name": ".venv",
   "language": "python",
   "name": "python3"
  },
  "language_info": {
   "name": "python",
   "version": "3.12.3"
  }
 },
 "nbformat": 4,
 "nbformat_minor": 2
}
